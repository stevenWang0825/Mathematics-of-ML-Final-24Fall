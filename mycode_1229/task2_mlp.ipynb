{
 "cells": [
  {
   "cell_type": "code",
   "execution_count": 1,
   "metadata": {},
   "outputs": [
    {
     "name": "stdout",
     "output_type": "stream",
     "text": [
      "Using CPU\n"
     ]
    }
   ],
   "source": [
    "import numpy as np\n",
    "import matplotlib.pyplot as plt\n",
    "import torch\n",
    "import random\n",
    "import math\n",
    "import torch.nn as nn\n",
    "import torch.nn.functional as F\n",
    "import os\n",
    "\n",
    "device = \"cpu\"\n",
    "if torch.cuda.is_available():\n",
    "    device = \"cuda\"\n",
    "    print(\"Using GPU\", torch.cuda.get_device_name(0))\n",
    "else:\n",
    "    print(\"Using CPU\")"
   ]
  },
  {
   "cell_type": "code",
   "execution_count": 2,
   "metadata": {},
   "outputs": [],
   "source": [
    "SEED = 42\n",
    "\n",
    "def set_seed(seed_value=0):\n",
    "    random.seed(seed_value)\n",
    "    np.random.seed(seed_value)\n",
    "    torch.manual_seed(seed_value)\n",
    "    \n",
    "    if torch.cuda.is_available():\n",
    "        torch.cuda.manual_seed(seed_value)\n",
    "        torch.cuda.manual_seed_all(seed_value)\n",
    "        torch.backends.cudnn.deterministic = True\n",
    "        torch.backends.cudnn.benchmark = False"
   ]
  },
  {
   "cell_type": "code",
   "execution_count": 3,
   "metadata": {},
   "outputs": [],
   "source": [
    "# Prime number for modular addition\n",
    "P = 53\n",
    "\n",
    "# Create the dataset\n",
    "set_seed(SEED)\n",
    "data = []\n",
    "for i in range(P):\n",
    "    for j in range(P):\n",
    "        data.append([i,j,(i+j)%P])\n",
    "data = np.array(data)\n",
    "\n",
    "# Split into train and test\n",
    "TRAIN_FRACTION = 0.5\n",
    "np.random.shuffle(data)\n",
    "train_data = data[:int(len(data) * TRAIN_FRACTION)]\n",
    "test_data = data[int(len(data) * TRAIN_FRACTION):]\n",
    "\n",
    "# Convert to tensors and create dataloaders with batch size\n",
    "BATCH_SIZE = 64\n",
    "BATCH_NUM = math.ceil(len(train_data)/BATCH_SIZE)\n",
    "\n",
    "train_data = torch.tensor(train_data, dtype=torch.long, device=device)\n",
    "test_data = torch.tensor(test_data, dtype=torch.long, device=device)\n",
    "train_loader = torch.utils.data.DataLoader(train_data, batch_size=BATCH_SIZE,shuffle=True)\n",
    "test_loader = torch.utils.data.DataLoader(test_data, batch_size=BATCH_SIZE, shuffle=False)"
   ]
  },
  {
   "cell_type": "markdown",
   "metadata": {},
   "source": [
    "Here we change the model to a MLP model: 2*D_EMBED -> Hidden1 -> Hidden2 -> Hidden3 -> P"
   ]
  },
  {
   "cell_type": "code",
   "execution_count": 4,
   "metadata": {},
   "outputs": [],
   "source": [
    "D_EMBED = 128\n",
    "Hidden1 = 256\n",
    "Hidden2 = 256\n",
    "Hidden3 = 128\n",
    "\n",
    "class MLP(nn.Module):\n",
    "    def __init__(self):\n",
    "        super(MLP, self).__init__()\n",
    "        self.embed = nn.Embedding(P, D_EMBED)\n",
    "        self.linear1 = nn.Linear(2 * D_EMBED, Hidden1)   # 2 * D_EMBED because we concatenate the two embedded tokens\n",
    "        self.linear2 = nn.Linear(Hidden2, Hidden3)\n",
    "        self.linear3 = nn.Linear(Hidden3, P)\n",
    "        self.init_weights()\n",
    "        \n",
    "    def forward(self, x1, x2):\n",
    "        x1 = self.embed(x1)\n",
    "        x2 = self.embed(x2)\n",
    "        x = torch.cat((x1, x2), dim=1)  # Concatenate the embedding of the two tokens\n",
    "        x = F.relu(self.linear1(x))\n",
    "        x = self.linear2(x)\n",
    "        x = self.linear3(x)\n",
    "        return x\n",
    "    \n",
    "    # Weight initialization\n",
    "    def init_weights(self):\n",
    "        for m in self.modules():\n",
    "            if isinstance(m, nn.Embedding):\n",
    "                nn.init.xavier_normal_(m.weight)               \n",
    "            if isinstance(m, nn.Linear):\n",
    "                nn.init.xavier_normal_(m.weight)\n",
    "                nn.init.zeros_(m.bias)"
   ]
  },
  {
   "cell_type": "code",
   "execution_count": 5,
   "metadata": {},
   "outputs": [],
   "source": [
    "TOTAL_STEPS = 20000\n",
    "NB_EPOCHS = math.ceil(TOTAL_STEPS/BATCH_NUM)\n",
    "LEARNING_RATE = 0.001\n",
    "WEIGHT_DECAY = 1\n",
    "\n",
    "set_seed(SEED)\n",
    "model = MLP().to(device)\n",
    "\n",
    "criterion = nn.CrossEntropyLoss()\n",
    "optimizer = torch.optim.AdamW(model.parameters(), lr=LEARNING_RATE, weight_decay=WEIGHT_DECAY)\n",
    "\n",
    "# Recording\n",
    "REPORT_INTERVAL = 200    # How often we print\n",
    "\n",
    "step = []\n",
    "train_loss_history = []\n",
    "train_acc_history = []\n",
    "test_loss_history = []\n",
    "test_acc_history = []"
   ]
  },
  {
   "cell_type": "code",
   "execution_count": 6,
   "metadata": {},
   "outputs": [
    {
     "name": "stdout",
     "output_type": "stream",
     "text": [
      "0/910: Train loss=3.9837, acc=1.4%  /  Test loss=3.9849, acc=1.2%\n",
      "200/910: Train loss=0.2699, acc=100.0%  /  Test loss=6.1093, acc=0.1%\n",
      "400/910: Train loss=0.0235, acc=100.0%  /  Test loss=0.4566, acc=94.5%\n",
      "600/910: Train loss=0.0021, acc=100.0%  /  Test loss=0.0037, acc=100.0%\n",
      "800/910: Train loss=0.0002, acc=100.0%  /  Test loss=0.0003, acc=100.0%\n"
     ]
    }
   ],
   "source": [
    "for epoch in range(NB_EPOCHS):\n",
    "    \n",
    "    # Training phase\n",
    "    model.train()\n",
    "    train_loss = 0.0\n",
    "    train_acc = 0.0\n",
    "    for batch in train_loader:\n",
    "        x1, x2, y = batch[:,0], batch[:,1], batch[:,2]\n",
    "        optimizer.zero_grad()\n",
    "        output = model(x1,x2)\n",
    "        loss = criterion(output, y)\n",
    "        loss.backward()\n",
    "        optimizer.step()\n",
    "        train_loss += loss.item()\n",
    "        train_acc += (output.argmax(dim=1) == y).sum().item()\n",
    "        \n",
    "    step.append(epoch*(BATCH_NUM))\n",
    "    train_loss /= len(train_loader)\n",
    "    train_loss_history.append(train_loss)\n",
    "    train_acc /= len(train_data)\n",
    "    train_acc_history.append(train_acc)\n",
    "    \n",
    "    # Testing phase\n",
    "    model.eval()\n",
    "    with torch.no_grad():\n",
    "        test_loss = 0.0\n",
    "        test_acc = 0.0\n",
    "        for batch in test_loader:\n",
    "            x1, x2, y = batch[:,0], batch[:,1], batch[:,2]\n",
    "            output = model(x1,x2)\n",
    "            loss = criterion(output, y)\n",
    "            test_loss += loss.item()\n",
    "            test_acc += (output.argmax(dim=1) == y).sum().item()\n",
    "        \n",
    "        test_loss /= len(test_loader)\n",
    "        test_loss_history.append(test_loss)\n",
    "        test_acc /= len(test_data)\n",
    "        test_acc_history.append(test_acc)\n",
    "        \n",
    "    if epoch % REPORT_INTERVAL == 0:\n",
    "        print(f\"{epoch}/{NB_EPOCHS}: Train loss={train_loss:.4f}, acc={100*train_acc:.1f}%  /  Test loss={test_loss:.4f}, acc={100*test_acc:.1f}%\")"
   ]
  },
  {
   "cell_type": "code",
   "execution_count": 8,
   "metadata": {},
   "outputs": [
    {
     "data": {
      "image/png": "[encoded data removed]",
      "text/plain": [
       "<Figure size 640x480 with 1 Axes>"
      ]
     },
     "metadata": {},
     "output_type": "display_data"
    }
   ],
   "source": [
    "figure = plt.subplot(1, 1, 1)\n",
    "plt.plot(step, train_acc_history, color='red', label='train')\n",
    "plt.plot(step, test_acc_history, color='green', label='test')\n",
    "plt.legend()\n",
    "plt.xlabel(\"Optimization Steps\")\n",
    "plt.xlim(8, TOTAL_STEPS)\n",
    "figure.set_ylabel(\"Accuracy\")\n",
    "\n",
    "plt.xscale('log')\n",
    "plt.legend(loc=(0.015, 0.72))\n",
    "plt.title(f\"Transformer on Modular Addition on {int(100*TRAIN_FRACTION)}% data (p={P})\", fontsize=11)\n",
    "plt.tight_layout()"
   ]
  }
 ],
 "metadata": {
  "kernelspec": {
   "display_name": "base",
   "language": "python",
   "name": "python3"
  },
  "language_info": {
   "codemirror_mode": {
    "name": "ipython",
    "version": 3
   },
   "file_extension": ".py",
   "mimetype": "text/x-python",
   "name": "python",
   "nbconvert_exporter": "python",
   "pygments_lexer": "ipython3",
   "version": "3.12.7"
  }
 },
 "nbformat": 4,
 "nbformat_minor": 2
}
